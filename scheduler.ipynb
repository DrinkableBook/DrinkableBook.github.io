{
 "cells": [
  {
   "cell_type": "code",
   "execution_count": 12,
   "metadata": {},
   "outputs": [
    {
     "name": "stdout",
     "output_type": "stream",
     "text": [
      "Operating Room 1 Schedule:\n",
      "  Event ID: Event1, Start Time: 2024-01-27 08:00:00, End Time: 2024-01-27 09:00:00, Weight: 3\n",
      "  Event ID: Event2, Start Time: 2024-01-27 09:30:00, End Time: 2024-01-27 11:30:00, Weight: 1\n",
      "  Event ID: Event4, Start Time: 2024-01-27 13:00:00, End Time: 2024-01-27 14:30:00, Weight: 1\n",
      "Operating Room 2 Schedule:\n",
      "  Event ID: Event3, Start Time: 2024-01-27 09:30:00, End Time: 2024-01-27 11:00:00, Weight: 2\n",
      "  Event ID: Event5, Start Time: 2024-01-27 13:00:00, End Time: 2024-01-27 15:00:00, Weight: 2\n",
      "Operating Room 1 Schedule:\n",
      "  Event ID: Event1, Start Time: 2024-01-27 08:00:00, End Time: 2024-01-27 09:00:00, Weight: 3\n",
      "  Event ID: Event2, Start Time: 2024-01-27 09:30:00, End Time: 2024-01-27 11:30:00, Weight: 1\n",
      "  Event ID: Event4, Start Time: 2024-01-27 13:00:00, End Time: 2024-01-27 14:30:00, Weight: 1\n",
      "Operating Room 2 Schedule:\n",
      "  Event ID: Event3, Start Time: 2024-01-27 09:30:00, End Time: 2024-01-27 11:00:00, Weight: 2\n",
      "  Event ID: Event5, Start Time: 2024-01-27 13:00:00, End Time: 2024-01-27 15:00:00, Weight: 2\n"
     ]
    }
   ],
   "source": [
    "import datetime\n",
    "\n",
    "class JobScheduler:\n",
    "    def __init__(self, num_or_rooms):\n",
    "        self.num_or_rooms = num_or_rooms\n",
    "        self.schedule = [[] for _ in range(num_or_rooms)]  # Initialize a list of lists for OR rooms\n",
    "\n",
    "    def add_job(self, event_id, start_time, estimated_completion_time, weight):\n",
    "        job_start_time = start_time\n",
    "        job_end_time = start_time + datetime.timedelta(minutes=estimated_completion_time)\n",
    "        \n",
    "        # Find an available OR room and schedule the job\n",
    "        for room_schedule in self.schedule:\n",
    "            if not room_schedule or room_schedule[-1][2] <= job_start_time:\n",
    "                room_schedule.append((event_id, job_start_time, job_end_time, weight))\n",
    "                break\n",
    "\n",
    "    def organize_schedule(self):\n",
    "        for room_schedule in self.schedule:\n",
    "            room_schedule.sort(key=lambda x: (x[1], x[3]))\n",
    "\n",
    "    def get_schedule(self):\n",
    "        return self.schedule\n",
    "\n",
    "    def print_schedule(self):\n",
    "        for i, room_schedule in enumerate(self.schedule):\n",
    "            print(f\"Operating Room {i + 1} Schedule:\")\n",
    "            for event_id, start_time, end_time, weight in room_schedule:\n",
    "                print(f\"  Event ID: {event_id}, Start Time: {start_time}, End Time: {end_time}, Weight: {weight}\")\n",
    "\n",
    "if __name__ == \"__main__\":\n",
    "    num_or_rooms = 2  # Number of operating rooms\n",
    "    scheduler = JobScheduler(num_or_rooms)\n",
    "\n",
    "    # Add jobs with event ID, start time, estimated completion time, and weight\n",
    "    scheduler.add_job(\"Event1\", datetime.datetime(2024, 1, 27, 8, 0), 60, 3)\n",
    "    scheduler.add_job(\"Event2\", datetime.datetime(2024, 1, 27, 9, 30), 120, 1)\n",
    "    scheduler.add_job(\"Event3\", datetime.datetime(2024, 1, 27, 9, 30), 90, 2)\n",
    "    scheduler.add_job(\"Event4\", datetime.datetime(2024, 1, 27, 13, 0), 90, 1)\n",
    "    scheduler.add_job(\"Event5\", datetime.datetime(2024, 1, 27, 13, 0), 120, 2)\n",
    "\n",
    "    # Organize the schedule for each OR room\n",
    "    scheduler.organize_schedule()\n",
    "    schedule_array = scheduler.get_schedule()\n",
    "\n",
    "    # Print the schedule for each OR room\n",
    "    scheduler.print_schedule()\n",
    "\n",
    "    # Access the schedule array for each OR room\n",
    "    for i, room_schedule in enumerate(schedule_array):\n",
    "        print(f\"Operating Room {i + 1} Schedule:\")\n",
    "        for event_id, start_time, end_time, weight in room_schedule:\n",
    "            print(f\"  Event ID: {event_id}, Start Time: {start_time}, End Time: {end_time}, Weight: {weight}\")\n"
   ]
  }
 ],
 "metadata": {
  "kernelspec": {
   "display_name": "base",
   "language": "python",
   "name": "python3"
  },
  "language_info": {
   "codemirror_mode": {
    "name": "ipython",
    "version": 3
   },
   "file_extension": ".py",
   "mimetype": "text/x-python",
   "name": "python",
   "nbconvert_exporter": "python",
   "pygments_lexer": "ipython3",
   "version": "3.9.7"
  }
 },
 "nbformat": 4,
 "nbformat_minor": 2
}
